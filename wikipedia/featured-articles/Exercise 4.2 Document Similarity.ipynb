{
 "cells": [
  {
   "cell_type": "code",
   "execution_count": 1,
   "metadata": {},
   "outputs": [],
   "source": [
    "# Importing the libraries\n",
    "\n",
    "import pandas as pd\n",
    "from pandas import DataFrame\n",
    "import json"
   ]
  },
  {
   "cell_type": "code",
   "execution_count": 2,
   "metadata": {},
   "outputs": [],
   "source": [
    "# Load the file 15\n",
    "\n",
    "data15 = pd.read_json(\"featured-articles_015.jsonl\", lines = True)"
   ]
  },
  {
   "cell_type": "code",
   "execution_count": 3,
   "metadata": {},
   "outputs": [
    {
     "data": {
      "text/html": [
       "<div>\n",
       "<style scoped>\n",
       "    .dataframe tbody tr th:only-of-type {\n",
       "        vertical-align: middle;\n",
       "    }\n",
       "\n",
       "    .dataframe tbody tr th {\n",
       "        vertical-align: top;\n",
       "    }\n",
       "\n",
       "    .dataframe thead th {\n",
       "        text-align: right;\n",
       "    }\n",
       "</style>\n",
       "<table border=\"1\" class=\"dataframe\">\n",
       "  <thead>\n",
       "    <tr style=\"text-align: right;\">\n",
       "      <th></th>\n",
       "      <th>interlinks</th>\n",
       "      <th>section_texts</th>\n",
       "      <th>section_titles</th>\n",
       "      <th>title</th>\n",
       "    </tr>\n",
       "  </thead>\n",
       "  <tbody>\n",
       "    <tr>\n",
       "      <th>0</th>\n",
       "      <td>{'physician': 'physician', 'no contest': 'no c...</td>\n",
       "      <td>[\\n\\n'''Debora Green''' (née '''Jones'''; born...</td>\n",
       "      <td>[Introduction, Early life and medical training...</td>\n",
       "      <td>Debora Green</td>\n",
       "    </tr>\n",
       "    <tr>\n",
       "      <th>1</th>\n",
       "      <td>{'Ohio General Assembly': 'Ohio General Assemb...</td>\n",
       "      <td>[\\nOn January 12, 1898, the Ohio General Assem...</td>\n",
       "      <td>[Introduction, Background and appointment of H...</td>\n",
       "      <td>United States Senate election in Ohio, 1898</td>\n",
       "    </tr>\n",
       "    <tr>\n",
       "      <th>2</th>\n",
       "      <td>{'nature reserve': 'nature reserve', 'North Se...</td>\n",
       "      <td>[\\n'''Cley Marshes''' is a  nature reserve on ...</td>\n",
       "      <td>[Introduction, History, Access and facilities,...</td>\n",
       "      <td>Cley Marshes</td>\n",
       "    </tr>\n",
       "    <tr>\n",
       "      <th>3</th>\n",
       "      <td>{'Indonesian name': 'Indonesian name', 'family...</td>\n",
       "      <td>[\\n\\n:''This is an Indonesian name; it does no...</td>\n",
       "      <td>[Introduction, Early life, Xaverius College, P...</td>\n",
       "      <td>Albertus Soegijapranata</td>\n",
       "    </tr>\n",
       "    <tr>\n",
       "      <th>4</th>\n",
       "      <td>{'Kyai': 'Kyai', 'Hajji': 'Hajji', 'Masyumi Pa...</td>\n",
       "      <td>[\\n\\n\\n\\n\\nKyai Hajji '''Fakih Usman''' (also ...</td>\n",
       "      <td>[Introduction, Early life, Work with the Muham...</td>\n",
       "      <td>Fakih Usman</td>\n",
       "    </tr>\n",
       "  </tbody>\n",
       "</table>\n",
       "</div>"
      ],
      "text/plain": [
       "                                          interlinks  \\\n",
       "0  {'physician': 'physician', 'no contest': 'no c...   \n",
       "1  {'Ohio General Assembly': 'Ohio General Assemb...   \n",
       "2  {'nature reserve': 'nature reserve', 'North Se...   \n",
       "3  {'Indonesian name': 'Indonesian name', 'family...   \n",
       "4  {'Kyai': 'Kyai', 'Hajji': 'Hajji', 'Masyumi Pa...   \n",
       "\n",
       "                                       section_texts  \\\n",
       "0  [\\n\\n'''Debora Green''' (née '''Jones'''; born...   \n",
       "1  [\\nOn January 12, 1898, the Ohio General Assem...   \n",
       "2  [\\n'''Cley Marshes''' is a  nature reserve on ...   \n",
       "3  [\\n\\n:''This is an Indonesian name; it does no...   \n",
       "4  [\\n\\n\\n\\n\\nKyai Hajji '''Fakih Usman''' (also ...   \n",
       "\n",
       "                                      section_titles  \\\n",
       "0  [Introduction, Early life and medical training...   \n",
       "1  [Introduction, Background and appointment of H...   \n",
       "2  [Introduction, History, Access and facilities,...   \n",
       "3  [Introduction, Early life, Xaverius College, P...   \n",
       "4  [Introduction, Early life, Work with the Muham...   \n",
       "\n",
       "                                         title  \n",
       "0                                 Debora Green  \n",
       "1  United States Senate election in Ohio, 1898  \n",
       "2                                 Cley Marshes  \n",
       "3                      Albertus Soegijapranata  \n",
       "4                                  Fakih Usman  "
      ]
     },
     "execution_count": 3,
     "metadata": {},
     "output_type": "execute_result"
    }
   ],
   "source": [
    "data15.head()"
   ]
  },
  {
   "cell_type": "code",
   "execution_count": 90,
   "metadata": {},
   "outputs": [
    {
     "name": "stdout",
     "output_type": "stream",
     "text": [
      "[nltk_data] Downloading package stopwords to /Users/ganga/nltk_data...\n",
      "[nltk_data]   Package stopwords is already up-to-date!\n"
     ]
    }
   ],
   "source": [
    "# Importing the libraries\n",
    "\n",
    "import re\n",
    "import nltk\n",
    "nltk.download('stopwords')\n",
    "from nltk.corpus import stopwords\n",
    "from nltk.stem.porter import PorterStemmer"
   ]
  },
  {
   "cell_type": "code",
   "execution_count": 91,
   "metadata": {},
   "outputs": [],
   "source": [
    "# Method to clean and pre process the data\n",
    "\n",
    "def processingtext(text):\n",
    "    \n",
    "    text = re.sub(r'\\\\n', '', str(text))\n",
    "    text = re.sub(r'@\\w+', '', text)\n",
    "    text = text.lower()\n",
    "    text = re.sub('[^a-zA-Z]', ' ', str(text))\n",
    "    text = text.split()\n",
    "    ps = PorterStemmer()\n",
    "    text = [ps.stem(word) for word in text if not word in set(stopwords.words('english'))]\n",
    "    text = \" \".join(text)\n",
    "    return text"
   ]
  },
  {
   "cell_type": "code",
   "execution_count": 92,
   "metadata": {},
   "outputs": [],
   "source": [
    "# Cleaning the data file 15\n",
    "\n",
    "data15[\"section_texts\"] = data15[\"section_texts\"].apply(processingtext)"
   ]
  },
  {
   "cell_type": "code",
   "execution_count": 93,
   "metadata": {},
   "outputs": [],
   "source": [
    "# Importing the data file 14\n",
    "\n",
    "data14 = pd.read_json(\"featured-articles_014.jsonl\", lines = True)"
   ]
  },
  {
   "cell_type": "code",
   "execution_count": 94,
   "metadata": {},
   "outputs": [],
   "source": [
    "# Cleaning the data file 14\n",
    "\n",
    "data14[\"section_texts\"] = data14[\"section_texts\"].apply(processingtext)"
   ]
  },
  {
   "cell_type": "code",
   "execution_count": 95,
   "metadata": {},
   "outputs": [],
   "source": [
    "# Importing the data file 13\n",
    "\n",
    "data13 = pd.read_json(\"featured-articles_013.jsonl\", lines = True)"
   ]
  },
  {
   "cell_type": "code",
   "execution_count": 96,
   "metadata": {},
   "outputs": [],
   "source": [
    "# Cleaning the data file 13\n",
    "\n",
    "data13[\"section_texts\"] = data13[\"section_texts\"].apply(processingtext)"
   ]
  },
  {
   "cell_type": "code",
   "execution_count": 97,
   "metadata": {},
   "outputs": [],
   "source": [
    "# Importing the data file 12\n",
    "\n",
    "data12 = pd.read_json(\"featured-articles_012.jsonl\", lines = True)"
   ]
  },
  {
   "cell_type": "code",
   "execution_count": 98,
   "metadata": {},
   "outputs": [],
   "source": [
    "# Cleaning the data file 12\n",
    "\n",
    "data12[\"section_texts\"] = data12[\"section_texts\"].apply(processingtext)"
   ]
  },
  {
   "cell_type": "code",
   "execution_count": 99,
   "metadata": {},
   "outputs": [],
   "source": [
    "# Importing the data file 11\n",
    "\n",
    "data11 = pd.read_json(\"featured-articles_011.jsonl\", lines = True)"
   ]
  },
  {
   "cell_type": "code",
   "execution_count": 100,
   "metadata": {},
   "outputs": [],
   "source": [
    "# Cleaning the data file 11\n",
    "\n",
    "data11[\"section_texts\"] = data12[\"section_texts\"].apply(processingtext)"
   ]
  },
  {
   "cell_type": "code",
   "execution_count": 133,
   "metadata": {},
   "outputs": [],
   "source": [
    "# Converting the pandas series into strings for all the five dataframes\n",
    "\n",
    "\n",
    "x11 = data11[\"section_texts\"].str.cat(sep = \" \")\n",
    "x12 = data12[\"section_texts\"].str.cat(sep = \" \")\n",
    "x13 = data13[\"section_texts\"].str.cat(sep = \" \")\n",
    "x14 = data14[\"section_texts\"].str.cat(sep = \" \")\n",
    "x15 = data15[\"section_texts\"].str.cat(sep = \" \")"
   ]
  },
  {
   "cell_type": "code",
   "execution_count": 139,
   "metadata": {},
   "outputs": [],
   "source": [
    "# Importing the libraries\n",
    "\n",
    "from sklearn.metrics import jaccard_similarity_score"
   ]
  },
  {
   "cell_type": "code",
   "execution_count": 141,
   "metadata": {},
   "outputs": [],
   "source": [
    "# Method to calculate jaccard distance\n",
    "\n",
    "def get_jaccard_sim(str1, str2): \n",
    "    a = set(str1.split()) \n",
    "    b = set(str2.split())\n",
    "    c = a.intersection(b)\n",
    "    return float(len(c)) / (len(a) + len(b) - len(c))"
   ]
  },
  {
   "cell_type": "code",
   "execution_count": 142,
   "metadata": {},
   "outputs": [
    {
     "data": {
      "text/plain": [
       "0.9420195084736527"
      ]
     },
     "execution_count": 142,
     "metadata": {},
     "output_type": "execute_result"
    }
   ],
   "source": [
    "# Calculate Jaccard Distance\n",
    "\n",
    "Similarity11_12 = get_jaccard_sim(x11, x12)\n",
    "Similarity11_12"
   ]
  },
  {
   "cell_type": "code",
   "execution_count": 144,
   "metadata": {},
   "outputs": [
    {
     "data": {
      "text/plain": [
       "0.3218490887143055"
      ]
     },
     "execution_count": 144,
     "metadata": {},
     "output_type": "execute_result"
    }
   ],
   "source": [
    "# Calculate Jaccard Distance\n",
    "\n",
    "Similarity11_13 = get_jaccard_sim(x11, x13)\n",
    "Similarity11_13"
   ]
  },
  {
   "cell_type": "code",
   "execution_count": 145,
   "metadata": {},
   "outputs": [
    {
     "data": {
      "text/plain": [
       "0.32259344496468534"
      ]
     },
     "execution_count": 145,
     "metadata": {},
     "output_type": "execute_result"
    }
   ],
   "source": [
    "# Calculate Jaccard Distance\n",
    "\n",
    "Similarity11_14 = get_jaccard_sim(x11, x14)\n",
    "Similarity11_14"
   ]
  },
  {
   "cell_type": "code",
   "execution_count": 146,
   "metadata": {},
   "outputs": [
    {
     "data": {
      "text/plain": [
       "0.30884105008011176"
      ]
     },
     "execution_count": 146,
     "metadata": {},
     "output_type": "execute_result"
    }
   ],
   "source": [
    "# Calculate Jaccard Distance\n",
    "\n",
    "Similarity11_15 = get_jaccard_sim(x11, x15)\n",
    "Similarity11_15"
   ]
  },
  {
   "cell_type": "code",
   "execution_count": 147,
   "metadata": {},
   "outputs": [
    {
     "data": {
      "text/plain": [
       "0.3360859615958611"
      ]
     },
     "execution_count": 147,
     "metadata": {},
     "output_type": "execute_result"
    }
   ],
   "source": [
    "# Calculate Jaccard Distance\n",
    "\n",
    "Similarity12_13 = get_jaccard_sim(x12, x13)\n",
    "Similarity12_13"
   ]
  },
  {
   "cell_type": "code",
   "execution_count": 148,
   "metadata": {},
   "outputs": [
    {
     "data": {
      "text/plain": [
       "0.3365777768913178"
      ]
     },
     "execution_count": 148,
     "metadata": {},
     "output_type": "execute_result"
    }
   ],
   "source": [
    "# Calculate Jaccard Distance\n",
    "\n",
    "Similarity12_14 = get_jaccard_sim(x12, x14)\n",
    "Similarity12_14"
   ]
  },
  {
   "cell_type": "code",
   "execution_count": 149,
   "metadata": {},
   "outputs": [
    {
     "data": {
      "text/plain": [
       "0.3222364401882275"
      ]
     },
     "execution_count": 149,
     "metadata": {},
     "output_type": "execute_result"
    }
   ],
   "source": [
    "# Calculate Jaccard Distance\n",
    "\n",
    "Similarity12_15 = get_jaccard_sim(x12, x15)\n",
    "Similarity12_15"
   ]
  },
  {
   "cell_type": "code",
   "execution_count": 150,
   "metadata": {},
   "outputs": [
    {
     "data": {
      "text/plain": [
       "0.34067276976180777"
      ]
     },
     "execution_count": 150,
     "metadata": {},
     "output_type": "execute_result"
    }
   ],
   "source": [
    "# Calculate Jaccard Distance\n",
    "\n",
    "Similarity13_14 = get_jaccard_sim(x13, x14)\n",
    "Similarity13_14"
   ]
  },
  {
   "cell_type": "code",
   "execution_count": 151,
   "metadata": {},
   "outputs": [
    {
     "data": {
      "text/plain": [
       "1.0"
      ]
     },
     "execution_count": 151,
     "metadata": {},
     "output_type": "execute_result"
    }
   ],
   "source": [
    "# Calculate Jaccard Distance\n",
    "\n",
    "Similarity13_15 = get_jaccard_sim(x15, x15)\n",
    "Similarity13_15"
   ]
  },
  {
   "cell_type": "code",
   "execution_count": 153,
   "metadata": {},
   "outputs": [
    {
     "data": {
      "text/plain": [
       "0.34014832179969795"
      ]
     },
     "execution_count": 153,
     "metadata": {},
     "output_type": "execute_result"
    }
   ],
   "source": [
    "# Calculate Jaccard Distance\n",
    "\n",
    "Similarity14_15 = get_jaccard_sim(x14, x15)\n",
    "Similarity14_15"
   ]
  },
  {
   "cell_type": "code",
   "execution_count": 161,
   "metadata": {},
   "outputs": [],
   "source": [
    "# Generating a dataframe with the scores\n",
    "\n",
    "Jaccard_Distance = DataFrame({\"Artcile 11\": [1, 0.94, 0.32, 0.32, 0.31], \"Article 12\":[0.94, 1.0, 0.33, 0.34, 0.32],\n",
    "                              \"Article 13\": [0.32, 0.33, 1.0, 0.34, 1.0], \"Article 14\": [0.32, 0.34, 0.34, 1.0, 0.34], \n",
    "                              \"Article 15\":[0.31, 0.32, 1.0, 0.34, 1]})"
   ]
  },
  {
   "cell_type": "code",
   "execution_count": 163,
   "metadata": {},
   "outputs": [
    {
     "data": {
      "text/html": [
       "<div>\n",
       "<style scoped>\n",
       "    .dataframe tbody tr th:only-of-type {\n",
       "        vertical-align: middle;\n",
       "    }\n",
       "\n",
       "    .dataframe tbody tr th {\n",
       "        vertical-align: top;\n",
       "    }\n",
       "\n",
       "    .dataframe thead th {\n",
       "        text-align: right;\n",
       "    }\n",
       "</style>\n",
       "<table border=\"1\" class=\"dataframe\">\n",
       "  <thead>\n",
       "    <tr style=\"text-align: right;\">\n",
       "      <th></th>\n",
       "      <th>Artcile 11</th>\n",
       "      <th>Article 12</th>\n",
       "      <th>Article 13</th>\n",
       "      <th>Article 14</th>\n",
       "      <th>Article 15</th>\n",
       "    </tr>\n",
       "  </thead>\n",
       "  <tbody>\n",
       "    <tr>\n",
       "      <th>Article 11</th>\n",
       "      <td>1.00</td>\n",
       "      <td>0.94</td>\n",
       "      <td>0.32</td>\n",
       "      <td>0.32</td>\n",
       "      <td>0.31</td>\n",
       "    </tr>\n",
       "    <tr>\n",
       "      <th>Article 12</th>\n",
       "      <td>0.94</td>\n",
       "      <td>1.00</td>\n",
       "      <td>0.33</td>\n",
       "      <td>0.34</td>\n",
       "      <td>0.32</td>\n",
       "    </tr>\n",
       "    <tr>\n",
       "      <th>Article 13</th>\n",
       "      <td>0.32</td>\n",
       "      <td>0.33</td>\n",
       "      <td>1.00</td>\n",
       "      <td>0.34</td>\n",
       "      <td>1.00</td>\n",
       "    </tr>\n",
       "    <tr>\n",
       "      <th>Article 14</th>\n",
       "      <td>0.32</td>\n",
       "      <td>0.34</td>\n",
       "      <td>0.34</td>\n",
       "      <td>1.00</td>\n",
       "      <td>0.34</td>\n",
       "    </tr>\n",
       "    <tr>\n",
       "      <th>Article 15</th>\n",
       "      <td>0.31</td>\n",
       "      <td>0.32</td>\n",
       "      <td>1.00</td>\n",
       "      <td>0.34</td>\n",
       "      <td>1.00</td>\n",
       "    </tr>\n",
       "  </tbody>\n",
       "</table>\n",
       "</div>"
      ],
      "text/plain": [
       "            Artcile 11  Article 12  Article 13  Article 14  Article 15\n",
       "Article 11        1.00        0.94        0.32        0.32        0.31\n",
       "Article 12        0.94        1.00        0.33        0.34        0.32\n",
       "Article 13        0.32        0.33        1.00        0.34        1.00\n",
       "Article 14        0.32        0.34        0.34        1.00        0.34\n",
       "Article 15        0.31        0.32        1.00        0.34        1.00"
      ]
     },
     "execution_count": 163,
     "metadata": {},
     "output_type": "execute_result"
    }
   ],
   "source": [
    "# Adding custom index for the data frame\n",
    "\n",
    "Jaccard_Distance.set_index([[\"Article 11\", \"Article 12\", \"Article 13\", \"Article 14\", \"Article 15\"]])"
   ]
  },
  {
   "cell_type": "code",
   "execution_count": 175,
   "metadata": {},
   "outputs": [],
   "source": [
    "# Importing the necesary libraries\n",
    "\n",
    "from collections import Counter\n",
    "from sklearn.feature_extraction.text import CountVectorizer\n",
    "from sklearn.metrics.pairwise import cosine_similarity\n",
    "from sklearn.feature_extraction.text import TfidfVectorizer\n",
    "\n",
    "# Method to calculate the cosine similarity using TfidfVectorizer\n",
    "\n",
    "def get_cosine_sim(*strs): \n",
    "    vectors = [t for t in get_vectors(*strs)]\n",
    "    return cosine_similarity(vectors)\n",
    "    \n",
    "def get_vectors(*strs):\n",
    "    text = [t for t in strs]\n",
    "    vectorizer = TfidfVectorizer(text)\n",
    "    vectorizer.fit(text)\n",
    "    return vectorizer.transform(text).toarray()"
   ]
  },
  {
   "cell_type": "code",
   "execution_count": 170,
   "metadata": {},
   "outputs": [],
   "source": [
    "# Calling the method tpo calculate cosine similarity\n",
    "\n",
    "cosine_similarity = get_cosine_sim(x11,x12,x13, x14,x15)"
   ]
  },
  {
   "cell_type": "code",
   "execution_count": 171,
   "metadata": {},
   "outputs": [
    {
     "data": {
      "text/plain": [
       "array([[1.        , 0.9668386 , 0.90962541, 0.90578348, 0.87862886],\n",
       "       [0.9668386 , 1.        , 0.94069   , 0.93542414, 0.90928395],\n",
       "       [0.90962541, 0.94069   , 1.        , 0.94228008, 0.9078827 ],\n",
       "       [0.90578348, 0.93542414, 0.94228008, 1.        , 0.90558117],\n",
       "       [0.87862886, 0.90928395, 0.9078827 , 0.90558117, 1.        ]])"
      ]
     },
     "execution_count": 171,
     "metadata": {},
     "output_type": "execute_result"
    }
   ],
   "source": [
    "cosine_similarity"
   ]
  },
  {
   "cell_type": "code",
   "execution_count": 174,
   "metadata": {},
   "outputs": [
    {
     "data": {
      "text/html": [
       "<div>\n",
       "<style scoped>\n",
       "    .dataframe tbody tr th:only-of-type {\n",
       "        vertical-align: middle;\n",
       "    }\n",
       "\n",
       "    .dataframe tbody tr th {\n",
       "        vertical-align: top;\n",
       "    }\n",
       "\n",
       "    .dataframe thead th {\n",
       "        text-align: right;\n",
       "    }\n",
       "</style>\n",
       "<table border=\"1\" class=\"dataframe\">\n",
       "  <thead>\n",
       "    <tr style=\"text-align: right;\">\n",
       "      <th></th>\n",
       "      <th>Artcile 11</th>\n",
       "      <th>Article 12</th>\n",
       "      <th>Article 13</th>\n",
       "      <th>Article 14</th>\n",
       "      <th>Article 15</th>\n",
       "    </tr>\n",
       "  </thead>\n",
       "  <tbody>\n",
       "    <tr>\n",
       "      <th>Article 11</th>\n",
       "      <td>1.00</td>\n",
       "      <td>0.97</td>\n",
       "      <td>0.91</td>\n",
       "      <td>0.91</td>\n",
       "      <td>0.88</td>\n",
       "    </tr>\n",
       "    <tr>\n",
       "      <th>Article 12</th>\n",
       "      <td>0.97</td>\n",
       "      <td>1.00</td>\n",
       "      <td>0.94</td>\n",
       "      <td>0.94</td>\n",
       "      <td>0.91</td>\n",
       "    </tr>\n",
       "    <tr>\n",
       "      <th>Article 13</th>\n",
       "      <td>0.91</td>\n",
       "      <td>0.94</td>\n",
       "      <td>1.00</td>\n",
       "      <td>0.94</td>\n",
       "      <td>0.91</td>\n",
       "    </tr>\n",
       "    <tr>\n",
       "      <th>Article 14</th>\n",
       "      <td>0.91</td>\n",
       "      <td>0.94</td>\n",
       "      <td>0.94</td>\n",
       "      <td>1.00</td>\n",
       "      <td>0.91</td>\n",
       "    </tr>\n",
       "    <tr>\n",
       "      <th>Article 15</th>\n",
       "      <td>0.88</td>\n",
       "      <td>0.91</td>\n",
       "      <td>0.91</td>\n",
       "      <td>0.91</td>\n",
       "      <td>1.00</td>\n",
       "    </tr>\n",
       "  </tbody>\n",
       "</table>\n",
       "</div>"
      ],
      "text/plain": [
       "            Artcile 11  Article 12  Article 13  Article 14  Article 15\n",
       "Article 11        1.00        0.97        0.91        0.91        0.88\n",
       "Article 12        0.97        1.00        0.94        0.94        0.91\n",
       "Article 13        0.91        0.94        1.00        0.94        0.91\n",
       "Article 14        0.91        0.94        0.94        1.00        0.91\n",
       "Article 15        0.88        0.91        0.91        0.91        1.00"
      ]
     },
     "execution_count": 174,
     "metadata": {},
     "output_type": "execute_result"
    }
   ],
   "source": [
    "# Generating a dataframe with cosine similarity scores\n",
    "\n",
    "\n",
    "cosineSimilarity = DataFrame({\"Artcile 11\": [1, 0.97, 0.91, 0.91, 0.88], \"Article 12\":[0.97, 1.0, 0.94, 0.94, 0.91],\n",
    "                              \"Article 13\": [0.91, 0.94, 1.0, 0.94, 0.91], \"Article 14\": [0.91, 0.94, 0.94, 1.0, 0.91], \n",
    "                              \"Article 15\":[0.88, 0.91, 0.91, 0.91, 1.0]})\n",
    "\n",
    "cosineSimilarity.set_index([[\"Article 11\", \"Article 12\", \"Article 13\", \"Article 14\", \"Article 15\"]])"
   ]
  },
  {
   "cell_type": "code",
   "execution_count": null,
   "metadata": {},
   "outputs": [],
   "source": []
  }
 ],
 "metadata": {
  "kernelspec": {
   "display_name": "Python 3",
   "language": "python",
   "name": "python3"
  },
  "language_info": {
   "codemirror_mode": {
    "name": "ipython",
    "version": 3
   },
   "file_extension": ".py",
   "mimetype": "text/x-python",
   "name": "python",
   "nbconvert_exporter": "python",
   "pygments_lexer": "ipython3",
   "version": "3.6.5"
  }
 },
 "nbformat": 4,
 "nbformat_minor": 2
}
