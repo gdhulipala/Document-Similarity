{
 "cells": [
  {
   "cell_type": "code",
   "execution_count": 4,
   "metadata": {},
   "outputs": [],
   "source": [
    "# Importing the libraries\n",
    "\n",
    "import pandas as pd\n",
    "from pandas import DataFrame\n",
    "import json"
   ]
  },
  {
   "cell_type": "code",
   "execution_count": 2,
   "metadata": {},
   "outputs": [
    {
     "name": "stdout",
     "output_type": "stream",
     "text": [
      "[nltk_data] Downloading package stopwords to /Users/ganga/nltk_data...\n",
      "[nltk_data]   Package stopwords is already up-to-date!\n"
     ]
    }
   ],
   "source": [
    "# Importing the nltk library and stop words\n",
    "\n",
    "import re\n",
    "import nltk\n",
    "nltk.download('stopwords')\n",
    "from nltk.corpus import stopwords\n",
    "from nltk.stem.porter import PorterStemmer"
   ]
  },
  {
   "cell_type": "code",
   "execution_count": 5,
   "metadata": {},
   "outputs": [
    {
     "data": {
      "text/html": [
       "<div>\n",
       "<style scoped>\n",
       "    .dataframe tbody tr th:only-of-type {\n",
       "        vertical-align: middle;\n",
       "    }\n",
       "\n",
       "    .dataframe tbody tr th {\n",
       "        vertical-align: top;\n",
       "    }\n",
       "\n",
       "    .dataframe thead th {\n",
       "        text-align: right;\n",
       "    }\n",
       "</style>\n",
       "<table border=\"1\" class=\"dataframe\">\n",
       "  <thead>\n",
       "    <tr style=\"text-align: right;\">\n",
       "      <th></th>\n",
       "      <th>interlinks</th>\n",
       "      <th>section_texts</th>\n",
       "      <th>section_titles</th>\n",
       "      <th>title</th>\n",
       "    </tr>\n",
       "  </thead>\n",
       "  <tbody>\n",
       "    <tr>\n",
       "      <th>0</th>\n",
       "      <td>{'Christchurch': 'Christchurch', 'Canterbury, ...</td>\n",
       "      <td>[\\n\\n\\nBenjamin Mountfort around 1875\\n\\n'''Be...</td>\n",
       "      <td>[Introduction, Early life, New Zealand, Return...</td>\n",
       "      <td>Benjamin Mountfort</td>\n",
       "    </tr>\n",
       "    <tr>\n",
       "      <th>1</th>\n",
       "      <td>{'abstract art': 'abstract', 'the Blitz': 'the...</td>\n",
       "      <td>[\\n\\n\\n\\n\\n'''Henry Spencer Moore'''  (30 July...</td>\n",
       "      <td>[Introduction, Life, Style, Legacy, Collection...</td>\n",
       "      <td>Henry Moore</td>\n",
       "    </tr>\n",
       "    <tr>\n",
       "      <th>2</th>\n",
       "      <td>{'shrub': 'shrub', 'Banksia': 'Banksia', 'Prot...</td>\n",
       "      <td>[\\n\\n\\nThe '''hairpin banksia''' (''Banksia sp...</td>\n",
       "      <td>[Introduction, Description, Taxonomy, Distribu...</td>\n",
       "      <td>Banksia spinulosa</td>\n",
       "    </tr>\n",
       "    <tr>\n",
       "      <th>3</th>\n",
       "      <td>{'shrub': 'shrub', 'Proteaceae': 'Proteaceae',...</td>\n",
       "      <td>[\\n\\n\\n\\n\\n\\n'''''Banksia aemula''''', commonl...</td>\n",
       "      <td>[Introduction, Description, Taxonomy, Distribu...</td>\n",
       "      <td>Banksia aemula</td>\n",
       "    </tr>\n",
       "    <tr>\n",
       "      <th>4</th>\n",
       "      <td>{'Noongar': 'Noongar', 'species': 'species', '...</td>\n",
       "      <td>[\\n\\n\\n\\n'''''Banksia attenuata''''', commonly...</td>\n",
       "      <td>[Introduction, Description, Taxonomy, Distribu...</td>\n",
       "      <td>Banksia attenuata</td>\n",
       "    </tr>\n",
       "  </tbody>\n",
       "</table>\n",
       "</div>"
      ],
      "text/plain": [
       "                                          interlinks  \\\n",
       "0  {'Christchurch': 'Christchurch', 'Canterbury, ...   \n",
       "1  {'abstract art': 'abstract', 'the Blitz': 'the...   \n",
       "2  {'shrub': 'shrub', 'Banksia': 'Banksia', 'Prot...   \n",
       "3  {'shrub': 'shrub', 'Proteaceae': 'Proteaceae',...   \n",
       "4  {'Noongar': 'Noongar', 'species': 'species', '...   \n",
       "\n",
       "                                       section_texts  \\\n",
       "0  [\\n\\n\\nBenjamin Mountfort around 1875\\n\\n'''Be...   \n",
       "1  [\\n\\n\\n\\n\\n'''Henry Spencer Moore'''  (30 July...   \n",
       "2  [\\n\\n\\nThe '''hairpin banksia''' (''Banksia sp...   \n",
       "3  [\\n\\n\\n\\n\\n\\n'''''Banksia aemula''''', commonl...   \n",
       "4  [\\n\\n\\n\\n'''''Banksia attenuata''''', commonly...   \n",
       "\n",
       "                                      section_titles               title  \n",
       "0  [Introduction, Early life, New Zealand, Return...  Benjamin Mountfort  \n",
       "1  [Introduction, Life, Style, Legacy, Collection...         Henry Moore  \n",
       "2  [Introduction, Description, Taxonomy, Distribu...   Banksia spinulosa  \n",
       "3  [Introduction, Description, Taxonomy, Distribu...      Banksia aemula  \n",
       "4  [Introduction, Description, Taxonomy, Distribu...   Banksia attenuata  "
      ]
     },
     "execution_count": 5,
     "metadata": {},
     "output_type": "execute_result"
    }
   ],
   "source": [
    "# Exporting the json wikipedia file\n",
    "\n",
    "data10 = pd.read_json(\"featured-articles_010.jsonl\", lines = True)\n",
    "data10.head()"
   ]
  },
  {
   "cell_type": "code",
   "execution_count": null,
   "metadata": {},
   "outputs": [],
   "source": [
    "# A"
   ]
  },
  {
   "cell_type": "code",
   "execution_count": 8,
   "metadata": {},
   "outputs": [],
   "source": [
    "# Extract first paragraph from section_texts\n",
    "\n",
    "data10_firstfive = data10.loc[0,\"section_texts\"]"
   ]
  },
  {
   "cell_type": "code",
   "execution_count": 9,
   "metadata": {},
   "outputs": [],
   "source": [
    "# Method to preprocess the data\n",
    "\n",
    "def processingtext(text):  \n",
    "    text = re.sub(r'\\\\n', '', str(text))\n",
    "    text = re.sub(r'@\\w+', '', text)\n",
    "    text = re.sub('[^a-zA-Z]', ' ', str(text))\n",
    "    text = text.lower()\n",
    "    return text"
   ]
  },
  {
   "cell_type": "code",
   "execution_count": 10,
   "metadata": {},
   "outputs": [],
   "source": [
    "# Taking out the new line characters\n",
    "\n",
    "data10_firstparagraph = re.sub(r'\\\\n', '', str(data10_firstfive[0]))"
   ]
  },
  {
   "cell_type": "code",
   "execution_count": 11,
   "metadata": {},
   "outputs": [],
   "source": [
    "data10_firstparagraph = re.sub(r'@\\w+', '', data10_firstparagraph)"
   ]
  },
  {
   "cell_type": "code",
   "execution_count": 12,
   "metadata": {},
   "outputs": [
    {
     "data": {
      "text/plain": [
       "\"Benjamin Mountfort around 1875'''Benjamin Woolfield Mountfort''' (13 March 1825 – 15 March 1898) was an English emigrant to New Zealand, where he became one of that country's most prominent 19th-century architects. He was instrumental in shaping the city of Christchurch's unique architectural identity and culture, and was appointed the first official Provincial Architect of the developing province of Canterbury. Heavily influenced by the Anglo-Catholic philosophy behind early Victorian architecture, he is credited with importing the Gothic revival style to New Zealand. His Gothic designs constructed in both wood and stone in the province are considered unique to New Zealand. Today, he is considered the founding architect of the province of Canterbury.\""
      ]
     },
     "execution_count": 12,
     "metadata": {},
     "output_type": "execute_result"
    }
   ],
   "source": [
    "# Replacing the new line character with space\n",
    "\n",
    "data10_firstparagraph.replace(\"\\n\", \"\")"
   ]
  },
  {
   "cell_type": "code",
   "execution_count": 14,
   "metadata": {},
   "outputs": [],
   "source": [
    "# Extracting all the information except the characters\n",
    "\n",
    "data10_firstparagraph = re.sub('[^a-zA-Z]', ' ', data10_firstparagraph)"
   ]
  },
  {
   "cell_type": "code",
   "execution_count": 15,
   "metadata": {},
   "outputs": [],
   "source": [
    "# Converting the letters to lower case\n",
    "\n",
    "data10_firstparagraph = data10_firstparagraph.lower()"
   ]
  },
  {
   "cell_type": "code",
   "execution_count": 16,
   "metadata": {},
   "outputs": [
    {
     "data": {
      "text/plain": [
       "' benjamin mountfort aroundbenjamin woolfield mountfortmarch march was an english emigrant to new zealandwhere he became one of that country s most prominent th century architectshe was instrumental in shaping the city of christchurch s unique architectural identity and cultureand was appointed the first official provincial architect of the developing province of canterburyheavily influenced by the anglo catholic philosophy behind early victorian architecturehe is credited with importing the gothic revival style to new zealandhis gothic designs constructed in both wood and stone in the province are considered unique to new zealandtodayhe is considered the founding architect of the province of canterbury'"
      ]
     },
     "execution_count": 16,
     "metadata": {},
     "output_type": "execute_result"
    }
   ],
   "source": [
    "# Replacing the double space with a songle space\n",
    "\n",
    "data10_firstparagraph.replace(\"  \", \"\")"
   ]
  },
  {
   "cell_type": "code",
   "execution_count": 17,
   "metadata": {},
   "outputs": [],
   "source": [
    "# Importing the tokenize function from nltk\n",
    "\n",
    "from nltk.tokenize import word_tokenize"
   ]
  },
  {
   "cell_type": "code",
   "execution_count": 18,
   "metadata": {},
   "outputs": [],
   "source": [
    "# Tokenize the first paragraph\n",
    "\n",
    "tokens = word_tokenize(data10_firstparagraph)"
   ]
  },
  {
   "cell_type": "code",
   "execution_count": 19,
   "metadata": {},
   "outputs": [
    {
     "data": {
      "text/plain": [
       "[[('benjamin', 'NN')],\n",
       " [('mountfort', 'NN')],\n",
       " [('around', 'IN')],\n",
       " [('benjamin', 'NN')],\n",
       " [('woolfield', 'NN')],\n",
       " [('mountfort', 'NN')],\n",
       " [('march', 'NN')],\n",
       " [('march', 'NN')],\n",
       " [('was', 'VBD')],\n",
       " [('an', 'DT')],\n",
       " [('english', 'JJ')],\n",
       " [('emigrant', 'NN')],\n",
       " [('to', 'TO')],\n",
       " [('new', 'JJ')],\n",
       " [('zealand', 'NN')],\n",
       " [('where', 'WRB')],\n",
       " [('he', 'PRP')],\n",
       " [('became', 'VBD')],\n",
       " [('one', 'CD')],\n",
       " [('of', 'IN')],\n",
       " [('that', 'IN')],\n",
       " [('country', 'NN')],\n",
       " [('s', 'NN')],\n",
       " [('most', 'JJS')],\n",
       " [('prominent', 'NN')],\n",
       " [('th', 'NN')],\n",
       " [('century', 'NN')],\n",
       " [('architects', 'NNS')],\n",
       " [('he', 'PRP')],\n",
       " [('was', 'VBD')],\n",
       " [('instrumental', 'JJ')],\n",
       " [('in', 'IN')],\n",
       " [('shaping', 'VBG')],\n",
       " [('the', 'DT')],\n",
       " [('city', 'NN')],\n",
       " [('of', 'IN')],\n",
       " [('christchurch', 'NN')],\n",
       " [('s', 'NN')],\n",
       " [('unique', 'NN')],\n",
       " [('architectural', 'JJ')],\n",
       " [('identity', 'NN')],\n",
       " [('and', 'CC')],\n",
       " [('culture', 'NN')],\n",
       " [('and', 'CC')],\n",
       " [('was', 'VBD')],\n",
       " [('appointed', 'VBN')],\n",
       " [('the', 'DT')],\n",
       " [('first', 'RB')],\n",
       " [('official', 'NN')],\n",
       " [('provincial', 'NN')],\n",
       " [('architect', 'NN')],\n",
       " [('of', 'IN')],\n",
       " [('the', 'DT')],\n",
       " [('developing', 'VBG')],\n",
       " [('province', 'NN')],\n",
       " [('of', 'IN')],\n",
       " [('canterbury', 'NN')],\n",
       " [('heavily', 'RB')],\n",
       " [('influenced', 'VBN')],\n",
       " [('by', 'IN')],\n",
       " [('the', 'DT')],\n",
       " [('anglo', 'NN')],\n",
       " [('catholic', 'NN')],\n",
       " [('philosophy', 'NN')],\n",
       " [('behind', 'IN')],\n",
       " [('early', 'RB')],\n",
       " [('victorian', 'JJ')],\n",
       " [('architecture', 'NN')],\n",
       " [('he', 'PRP')],\n",
       " [('is', 'VBZ')],\n",
       " [('credited', 'VBN')],\n",
       " [('with', 'IN')],\n",
       " [('importing', 'VBG')],\n",
       " [('the', 'DT')],\n",
       " [('gothic', 'JJ')],\n",
       " [('revival', 'NN')],\n",
       " [('style', 'NN')],\n",
       " [('to', 'TO')],\n",
       " [('new', 'JJ')],\n",
       " [('zealand', 'NN')],\n",
       " [('his', 'PRP$')],\n",
       " [('gothic', 'JJ')],\n",
       " [('designs', 'NNS')],\n",
       " [('constructed', 'VBN')],\n",
       " [('in', 'IN')],\n",
       " [('both', 'DT')],\n",
       " [('wood', 'NN')],\n",
       " [('and', 'CC')],\n",
       " [('stone', 'NN')],\n",
       " [('in', 'IN')],\n",
       " [('the', 'DT')],\n",
       " [('province', 'NN')],\n",
       " [('are', 'VBP')],\n",
       " [('considered', 'VBN')],\n",
       " [('unique', 'NN')],\n",
       " [('to', 'TO')],\n",
       " [('new', 'JJ')],\n",
       " [('zealand', 'NN')],\n",
       " [('today', 'NN')],\n",
       " [('he', 'PRP')],\n",
       " [('is', 'VBZ')],\n",
       " [('considered', 'VBN')],\n",
       " [('the', 'DT')],\n",
       " [('founding', 'VBG')],\n",
       " [('architect', 'NN')],\n",
       " [('of', 'IN')],\n",
       " [('the', 'DT')],\n",
       " [('province', 'NN')],\n",
       " [('of', 'IN')],\n",
       " [('canterbury', 'NN')]]"
      ]
     },
     "execution_count": 19,
     "metadata": {},
     "output_type": "execute_result"
    }
   ],
   "source": [
    "# Tagging the parts of speech\n",
    "\n",
    "pos = []\n",
    "\n",
    "for token in tokens:\n",
    "    pos.append(nltk.pos_tag([token]))\n",
    "pos"
   ]
  },
  {
   "cell_type": "code",
   "execution_count": 75,
   "metadata": {},
   "outputs": [
    {
     "data": {
      "text/plain": [
       "[[('benjamin', 'NN')],\n",
       " [('mountfort', 'NN')],\n",
       " [('benjamin', 'NN')],\n",
       " [('woolfield', 'NN')],\n",
       " [('mountfort', 'NN')],\n",
       " [('march', 'NN')],\n",
       " [('march', 'NN')],\n",
       " [('emigrant', 'NN')],\n",
       " [('zealand', 'NN')],\n",
       " [('country', 'NN')],\n",
       " [('s', 'NN')],\n",
       " [('prominent', 'NN')],\n",
       " [('th', 'NN')],\n",
       " [('century', 'NN')],\n",
       " [('city', 'NN')],\n",
       " [('christchurch', 'NN')],\n",
       " [('s', 'NN')],\n",
       " [('unique', 'NN')],\n",
       " [('identity', 'NN')],\n",
       " [('culture', 'NN')],\n",
       " [('official', 'NN')],\n",
       " [('provincial', 'NN')],\n",
       " [('architect', 'NN')],\n",
       " [('province', 'NN')],\n",
       " [('canterbury', 'NN')],\n",
       " [('anglo', 'NN')],\n",
       " [('catholic', 'NN')],\n",
       " [('philosophy', 'NN')],\n",
       " [('architecture', 'NN')],\n",
       " [('revival', 'NN')],\n",
       " [('style', 'NN')],\n",
       " [('zealand', 'NN')],\n",
       " [('wood', 'NN')],\n",
       " [('stone', 'NN')],\n",
       " [('province', 'NN')],\n",
       " [('unique', 'NN')],\n",
       " [('zealand', 'NN')],\n",
       " [('today', 'NN')],\n",
       " [('architect', 'NN')],\n",
       " [('province', 'NN')],\n",
       " [('canterbury', 'NN')]]"
      ]
     },
     "execution_count": 75,
     "metadata": {},
     "output_type": "execute_result"
    }
   ],
   "source": [
    "# Tagging only nouns\n",
    "\n",
    "pos = []\n",
    "\n",
    "for token in tokens:\n",
    "    for i,v in nltk.pos_tag([token]):\n",
    "        if v == 'NN':\n",
    "            pos.append(nltk.pos_tag([token]))\n",
    "pos"
   ]
  },
  {
   "cell_type": "code",
   "execution_count": 40,
   "metadata": {},
   "outputs": [],
   "source": [
    "# Nouns and Verbs"
   ]
  },
  {
   "cell_type": "code",
   "execution_count": 20,
   "metadata": {},
   "outputs": [
    {
     "data": {
      "text/plain": [
       "[[('was', 'VBD')],\n",
       " [('became', 'VBD')],\n",
       " [('was', 'VBD')],\n",
       " [('was', 'VBD')],\n",
       " [('is', 'VBZ')],\n",
       " [('is', 'VBZ')]]"
      ]
     },
     "execution_count": 20,
     "metadata": {},
     "output_type": "execute_result"
    }
   ],
   "source": [
    "# Tagging the verbs\n",
    "\n",
    "pos = []\n",
    "\n",
    "for token in tokens:\n",
    "    for i,v in nltk.pos_tag([token]):\n",
    "        if v == 'VBZ':\n",
    "            pos.append(nltk.pos_tag([token]))\n",
    "        if v == 'VBD':\n",
    "            pos.append(nltk.pos_tag([token]))\n",
    "pos"
   ]
  },
  {
   "cell_type": "code",
   "execution_count": null,
   "metadata": {},
   "outputs": [],
   "source": [
    "# 3. Ngrams from a dataset"
   ]
  },
  {
   "cell_type": "code",
   "execution_count": null,
   "metadata": {},
   "outputs": [],
   "source": [
    "# Extracting all the columns individually, preprocessing the text and finally making a single string from all the columns"
   ]
  },
  {
   "cell_type": "code",
   "execution_count": 21,
   "metadata": {},
   "outputs": [],
   "source": [
    "data10[\"section_texts\"] = data10[\"section_texts\"].apply(processingtext)"
   ]
  },
  {
   "cell_type": "code",
   "execution_count": 22,
   "metadata": {},
   "outputs": [],
   "source": [
    "data10[\"interlinks\"] = data10[\"interlinks\"].apply(processingtext)"
   ]
  },
  {
   "cell_type": "code",
   "execution_count": 23,
   "metadata": {},
   "outputs": [],
   "source": [
    "data10[\"section_titles\"] = data10[\"section_titles\"].apply(processingtext)"
   ]
  },
  {
   "cell_type": "code",
   "execution_count": 24,
   "metadata": {},
   "outputs": [],
   "source": [
    "data10[\"title\"] = data10[\"title\"].apply(processingtext)"
   ]
  },
  {
   "cell_type": "code",
   "execution_count": 25,
   "metadata": {},
   "outputs": [],
   "source": [
    "x10 = data10[\"section_texts\"].str.cat(sep = \" \")"
   ]
  },
  {
   "cell_type": "code",
   "execution_count": 26,
   "metadata": {},
   "outputs": [],
   "source": [
    "x10_interlinks = data10[\"interlinks\"].str.cat(sep = \" \")"
   ]
  },
  {
   "cell_type": "code",
   "execution_count": 27,
   "metadata": {},
   "outputs": [],
   "source": [
    "x10_sectitles = data10[\"section_titles\"].str.cat(sep = \" \")"
   ]
  },
  {
   "cell_type": "code",
   "execution_count": 28,
   "metadata": {},
   "outputs": [],
   "source": [
    "x10_title = data10[\"title\"].str.cat(sep = \" \")"
   ]
  },
  {
   "cell_type": "code",
   "execution_count": 29,
   "metadata": {},
   "outputs": [],
   "source": [
    "# Joining and making single combined string\n",
    "\n",
    "ls = [x10, x10_interlinks, x10_sectitles, x10_title]\n",
    "\n",
    "x10_data = \" \".join(ls)"
   ]
  },
  {
   "cell_type": "code",
   "execution_count": 30,
   "metadata": {},
   "outputs": [],
   "source": [
    "# Tokenize all the columns into a single string\n",
    "\n",
    "tokens = word_tokenize(x10_data)"
   ]
  },
  {
   "cell_type": "code",
   "execution_count": null,
   "metadata": {},
   "outputs": [],
   "source": [
    "# 2 A"
   ]
  },
  {
   "cell_type": "code",
   "execution_count": 31,
   "metadata": {},
   "outputs": [
    {
     "data": {
      "text/html": [
       "<div>\n",
       "<style scoped>\n",
       "    .dataframe tbody tr th:only-of-type {\n",
       "        vertical-align: middle;\n",
       "    }\n",
       "\n",
       "    .dataframe tbody tr th {\n",
       "        vertical-align: top;\n",
       "    }\n",
       "\n",
       "    .dataframe thead th {\n",
       "        text-align: right;\n",
       "    }\n",
       "</style>\n",
       "<table border=\"1\" class=\"dataframe\">\n",
       "  <thead>\n",
       "    <tr style=\"text-align: right;\">\n",
       "      <th></th>\n",
       "      <th>Bigrams</th>\n",
       "      <th>Count</th>\n",
       "      <th>Log Frequency</th>\n",
       "    </tr>\n",
       "  </thead>\n",
       "  <tbody>\n",
       "    <tr>\n",
       "      <th>0</th>\n",
       "      <td>(benjamin, mountfort)</td>\n",
       "      <td>7</td>\n",
       "      <td>-11.182966</td>\n",
       "    </tr>\n",
       "    <tr>\n",
       "      <th>1</th>\n",
       "      <td>(mountfort, around)</td>\n",
       "      <td>1</td>\n",
       "      <td>-13.128876</td>\n",
       "    </tr>\n",
       "    <tr>\n",
       "      <th>2</th>\n",
       "      <td>(around, benjamin)</td>\n",
       "      <td>1</td>\n",
       "      <td>-13.128876</td>\n",
       "    </tr>\n",
       "    <tr>\n",
       "      <th>3</th>\n",
       "      <td>(benjamin, woolfield)</td>\n",
       "      <td>1</td>\n",
       "      <td>-13.128876</td>\n",
       "    </tr>\n",
       "    <tr>\n",
       "      <th>4</th>\n",
       "      <td>(woolfield, mountfort)</td>\n",
       "      <td>1</td>\n",
       "      <td>-13.128876</td>\n",
       "    </tr>\n",
       "  </tbody>\n",
       "</table>\n",
       "</div>"
      ],
      "text/plain": [
       "                  Bigrams  Count  Log Frequency\n",
       "0   (benjamin, mountfort)      7     -11.182966\n",
       "1     (mountfort, around)      1     -13.128876\n",
       "2      (around, benjamin)      1     -13.128876\n",
       "3   (benjamin, woolfield)      1     -13.128876\n",
       "4  (woolfield, mountfort)      1     -13.128876"
      ]
     },
     "execution_count": 31,
     "metadata": {},
     "output_type": "execute_result"
    }
   ],
   "source": [
    "# Function to extract bigrams followed by count and log frequency\n",
    "\n",
    "import re\n",
    "from nltk.util import ngrams\n",
    "from collections import Counter\n",
    "import numpy as np\n",
    "\n",
    "bigrams_logfreq = []\n",
    "bigrams_lst = []\n",
    "bigrams_count = []\n",
    "bigrams = ngrams(tokens,2)\n",
    "bigrams_freq = Counter(bigrams)\n",
    "for i,v in bigrams_freq.items():\n",
    "    bigrams_logfreq.append(np.log(v/len(bigrams_freq)))\n",
    "    bigrams_lst.append(i)\n",
    "    bigrams_count.append(v)\n",
    "\n",
    "Bigrams_dataframe =  pd.DataFrame(list(zip(bigrams_lst, bigrams_count, bigrams_logfreq)),\n",
    "                     columns=['Bigrams','Count', 'Log Frequency'])\n",
    "\n",
    "Bigrams_dataframe.head()"
   ]
  },
  {
   "cell_type": "code",
   "execution_count": 32,
   "metadata": {},
   "outputs": [
    {
     "data": {
      "text/html": [
       "<div>\n",
       "<style scoped>\n",
       "    .dataframe tbody tr th:only-of-type {\n",
       "        vertical-align: middle;\n",
       "    }\n",
       "\n",
       "    .dataframe tbody tr th {\n",
       "        vertical-align: top;\n",
       "    }\n",
       "\n",
       "    .dataframe thead th {\n",
       "        text-align: right;\n",
       "    }\n",
       "</style>\n",
       "<table border=\"1\" class=\"dataframe\">\n",
       "  <thead>\n",
       "    <tr style=\"text-align: right;\">\n",
       "      <th></th>\n",
       "      <th>Trigrams</th>\n",
       "      <th>Count</th>\n",
       "      <th>Log Frequency</th>\n",
       "    </tr>\n",
       "  </thead>\n",
       "  <tbody>\n",
       "    <tr>\n",
       "      <th>0</th>\n",
       "      <td>(benjamin, mountfort, around)</td>\n",
       "      <td>1</td>\n",
       "      <td>-13.729689</td>\n",
       "    </tr>\n",
       "    <tr>\n",
       "      <th>1</th>\n",
       "      <td>(mountfort, around, benjamin)</td>\n",
       "      <td>1</td>\n",
       "      <td>-13.729689</td>\n",
       "    </tr>\n",
       "    <tr>\n",
       "      <th>2</th>\n",
       "      <td>(around, benjamin, woolfield)</td>\n",
       "      <td>1</td>\n",
       "      <td>-13.729689</td>\n",
       "    </tr>\n",
       "    <tr>\n",
       "      <th>3</th>\n",
       "      <td>(benjamin, woolfield, mountfort)</td>\n",
       "      <td>1</td>\n",
       "      <td>-13.729689</td>\n",
       "    </tr>\n",
       "    <tr>\n",
       "      <th>4</th>\n",
       "      <td>(woolfield, mountfort, march)</td>\n",
       "      <td>1</td>\n",
       "      <td>-13.729689</td>\n",
       "    </tr>\n",
       "  </tbody>\n",
       "</table>\n",
       "</div>"
      ],
      "text/plain": [
       "                           Trigrams  Count  Log Frequency\n",
       "0     (benjamin, mountfort, around)      1     -13.729689\n",
       "1     (mountfort, around, benjamin)      1     -13.729689\n",
       "2     (around, benjamin, woolfield)      1     -13.729689\n",
       "3  (benjamin, woolfield, mountfort)      1     -13.729689\n",
       "4     (woolfield, mountfort, march)      1     -13.729689"
      ]
     },
     "execution_count": 32,
     "metadata": {},
     "output_type": "execute_result"
    }
   ],
   "source": [
    "# Function to extract trigrams followed by count and log frequency\n",
    "\n",
    "import re\n",
    "from nltk.util import ngrams\n",
    "from collections import Counter\n",
    "import numpy as np\n",
    "\n",
    "trigrams_logfreq = []\n",
    "trigrams_lst = []\n",
    "trigrams_count = []\n",
    "\n",
    "trigrams = ngrams(tokens,3)\n",
    "trigrams_freq = Counter(trigrams)\n",
    "for i,v in trigrams_freq.items():\n",
    "    trigrams_logfreq.append(np.log(v/len(trigrams_freq)))\n",
    "    trigrams_lst.append(i)\n",
    "    trigrams_count.append(v)\n",
    "\n",
    "Trigrams_dataframe =  pd.DataFrame(list(zip(trigrams_lst, trigrams_count, trigrams_logfreq)),\n",
    "                     columns=['Trigrams','Count', 'Log Frequency'])\n",
    "\n",
    "Trigrams_dataframe.head()"
   ]
  },
  {
   "cell_type": "code",
   "execution_count": null,
   "metadata": {},
   "outputs": [],
   "source": [
    "# 2 B"
   ]
  },
  {
   "cell_type": "code",
   "execution_count": 34,
   "metadata": {},
   "outputs": [],
   "source": [
    "# Function to remove stop words\n",
    "\n",
    "from nltk.corpus import stopwords \n",
    "\n",
    "stop_words = set(stopwords.words('english'))\n",
    "\n",
    "filtered_sentence = [] \n",
    "  \n",
    "for w in tokens: \n",
    "    if w not in stop_words: \n",
    "        filtered_sentence.append(w) "
   ]
  },
  {
   "cell_type": "code",
   "execution_count": 35,
   "metadata": {},
   "outputs": [
    {
     "data": {
      "text/html": [
       "<div>\n",
       "<style scoped>\n",
       "    .dataframe tbody tr th:only-of-type {\n",
       "        vertical-align: middle;\n",
       "    }\n",
       "\n",
       "    .dataframe tbody tr th {\n",
       "        vertical-align: top;\n",
       "    }\n",
       "\n",
       "    .dataframe thead th {\n",
       "        text-align: right;\n",
       "    }\n",
       "</style>\n",
       "<table border=\"1\" class=\"dataframe\">\n",
       "  <thead>\n",
       "    <tr style=\"text-align: right;\">\n",
       "      <th></th>\n",
       "      <th>Bigrams</th>\n",
       "      <th>Count</th>\n",
       "      <th>Log Frequency</th>\n",
       "    </tr>\n",
       "  </thead>\n",
       "  <tbody>\n",
       "    <tr>\n",
       "      <th>0</th>\n",
       "      <td>(benjamin, mountfort)</td>\n",
       "      <td>7</td>\n",
       "      <td>-11.222558</td>\n",
       "    </tr>\n",
       "    <tr>\n",
       "      <th>1</th>\n",
       "      <td>(mountfort, around)</td>\n",
       "      <td>1</td>\n",
       "      <td>-13.168468</td>\n",
       "    </tr>\n",
       "    <tr>\n",
       "      <th>2</th>\n",
       "      <td>(around, benjamin)</td>\n",
       "      <td>1</td>\n",
       "      <td>-13.168468</td>\n",
       "    </tr>\n",
       "    <tr>\n",
       "      <th>3</th>\n",
       "      <td>(benjamin, woolfield)</td>\n",
       "      <td>1</td>\n",
       "      <td>-13.168468</td>\n",
       "    </tr>\n",
       "    <tr>\n",
       "      <th>4</th>\n",
       "      <td>(woolfield, mountfort)</td>\n",
       "      <td>1</td>\n",
       "      <td>-13.168468</td>\n",
       "    </tr>\n",
       "  </tbody>\n",
       "</table>\n",
       "</div>"
      ],
      "text/plain": [
       "                  Bigrams  Count  Log Frequency\n",
       "0   (benjamin, mountfort)      7     -11.222558\n",
       "1     (mountfort, around)      1     -13.168468\n",
       "2      (around, benjamin)      1     -13.168468\n",
       "3   (benjamin, woolfield)      1     -13.168468\n",
       "4  (woolfield, mountfort)      1     -13.168468"
      ]
     },
     "execution_count": 35,
     "metadata": {},
     "output_type": "execute_result"
    }
   ],
   "source": [
    "# Function to extract bigrams followed by count and log frequency\n",
    "\n",
    "bigrams_logfreq = []\n",
    "bigrams_lst = []\n",
    "bigrams_count = []\n",
    "\n",
    "bigrams = ngrams(filtered_sentence,2)\n",
    "bigrams_freq = Counter(bigrams)\n",
    "for i,v in bigrams_freq.items():\n",
    "    bigrams_logfreq.append(np.log(v/len(bigrams_freq)))\n",
    "    bigrams_lst.append(i)\n",
    "    bigrams_count.append(v)\n",
    "\n",
    "Bigrams_dataframe =  pd.DataFrame(list(zip(bigrams_lst, bigrams_count, bigrams_logfreq)),\n",
    "                     columns=['Bigrams','Count', 'Log Frequency'])\n",
    "\n",
    "Bigrams_dataframe.head()"
   ]
  },
  {
   "cell_type": "code",
   "execution_count": 36,
   "metadata": {},
   "outputs": [
    {
     "data": {
      "text/html": [
       "<div>\n",
       "<style scoped>\n",
       "    .dataframe tbody tr th:only-of-type {\n",
       "        vertical-align: middle;\n",
       "    }\n",
       "\n",
       "    .dataframe tbody tr th {\n",
       "        vertical-align: top;\n",
       "    }\n",
       "\n",
       "    .dataframe thead th {\n",
       "        text-align: right;\n",
       "    }\n",
       "</style>\n",
       "<table border=\"1\" class=\"dataframe\">\n",
       "  <thead>\n",
       "    <tr style=\"text-align: right;\">\n",
       "      <th></th>\n",
       "      <th>Trigrams</th>\n",
       "      <th>Count</th>\n",
       "      <th>Log Frequency</th>\n",
       "    </tr>\n",
       "  </thead>\n",
       "  <tbody>\n",
       "    <tr>\n",
       "      <th>0</th>\n",
       "      <td>(benjamin, mountfort, around)</td>\n",
       "      <td>1</td>\n",
       "      <td>-13.403545</td>\n",
       "    </tr>\n",
       "    <tr>\n",
       "      <th>1</th>\n",
       "      <td>(mountfort, around, benjamin)</td>\n",
       "      <td>1</td>\n",
       "      <td>-13.403545</td>\n",
       "    </tr>\n",
       "    <tr>\n",
       "      <th>2</th>\n",
       "      <td>(around, benjamin, woolfield)</td>\n",
       "      <td>1</td>\n",
       "      <td>-13.403545</td>\n",
       "    </tr>\n",
       "    <tr>\n",
       "      <th>3</th>\n",
       "      <td>(benjamin, woolfield, mountfort)</td>\n",
       "      <td>1</td>\n",
       "      <td>-13.403545</td>\n",
       "    </tr>\n",
       "    <tr>\n",
       "      <th>4</th>\n",
       "      <td>(woolfield, mountfort, march)</td>\n",
       "      <td>1</td>\n",
       "      <td>-13.403545</td>\n",
       "    </tr>\n",
       "  </tbody>\n",
       "</table>\n",
       "</div>"
      ],
      "text/plain": [
       "                           Trigrams  Count  Log Frequency\n",
       "0     (benjamin, mountfort, around)      1     -13.403545\n",
       "1     (mountfort, around, benjamin)      1     -13.403545\n",
       "2     (around, benjamin, woolfield)      1     -13.403545\n",
       "3  (benjamin, woolfield, mountfort)      1     -13.403545\n",
       "4     (woolfield, mountfort, march)      1     -13.403545"
      ]
     },
     "execution_count": 36,
     "metadata": {},
     "output_type": "execute_result"
    }
   ],
   "source": [
    "# Function to extract bigrams followed by count and log frequency\n",
    "\n",
    "trigrams_logfreq = []\n",
    "trigrams_lst = []\n",
    "trigrams_count = []\n",
    "\n",
    "trigrams = ngrams(filtered_sentence,3)\n",
    "trigrams_freq = Counter(trigrams)\n",
    "for i,v in trigrams_freq.items():\n",
    "    trigrams_logfreq.append(np.log(v/len(trigrams_freq)))\n",
    "    trigrams_lst.append(i)\n",
    "    trigrams_count.append(v)\n",
    "\n",
    "Trigrams_dataframe =  pd.DataFrame(list(zip(trigrams_lst, trigrams_count, trigrams_logfreq)),\n",
    "                     columns=['Trigrams','Count', 'Log Frequency'])\n",
    "\n",
    "Trigrams_dataframe.head()"
   ]
  },
  {
   "cell_type": "code",
   "execution_count": 41,
   "metadata": {},
   "outputs": [],
   "source": [
    "# 2 C"
   ]
  },
  {
   "cell_type": "code",
   "execution_count": 42,
   "metadata": {},
   "outputs": [
    {
     "data": {
      "text/html": [
       "<div>\n",
       "<style scoped>\n",
       "    .dataframe tbody tr th:only-of-type {\n",
       "        vertical-align: middle;\n",
       "    }\n",
       "\n",
       "    .dataframe tbody tr th {\n",
       "        vertical-align: top;\n",
       "    }\n",
       "\n",
       "    .dataframe thead th {\n",
       "        text-align: right;\n",
       "    }\n",
       "</style>\n",
       "<table border=\"1\" class=\"dataframe\">\n",
       "  <thead>\n",
       "    <tr style=\"text-align: right;\">\n",
       "      <th></th>\n",
       "      <th>Quadgrams</th>\n",
       "      <th>Count</th>\n",
       "      <th>Log Frequency</th>\n",
       "    </tr>\n",
       "  </thead>\n",
       "  <tbody>\n",
       "    <tr>\n",
       "      <th>0</th>\n",
       "      <td>(benjamin, mountfort, around, benjamin)</td>\n",
       "      <td>1</td>\n",
       "      <td>-13.403545</td>\n",
       "    </tr>\n",
       "    <tr>\n",
       "      <th>1</th>\n",
       "      <td>(mountfort, around, benjamin, woolfield)</td>\n",
       "      <td>1</td>\n",
       "      <td>-13.403545</td>\n",
       "    </tr>\n",
       "    <tr>\n",
       "      <th>2</th>\n",
       "      <td>(around, benjamin, woolfield, mountfort)</td>\n",
       "      <td>1</td>\n",
       "      <td>-13.403545</td>\n",
       "    </tr>\n",
       "    <tr>\n",
       "      <th>3</th>\n",
       "      <td>(benjamin, woolfield, mountfort, march)</td>\n",
       "      <td>1</td>\n",
       "      <td>-13.403545</td>\n",
       "    </tr>\n",
       "    <tr>\n",
       "      <th>4</th>\n",
       "      <td>(woolfield, mountfort, march, march)</td>\n",
       "      <td>1</td>\n",
       "      <td>-13.403545</td>\n",
       "    </tr>\n",
       "  </tbody>\n",
       "</table>\n",
       "</div>"
      ],
      "text/plain": [
       "                                  Quadgrams  Count  Log Frequency\n",
       "0   (benjamin, mountfort, around, benjamin)      1     -13.403545\n",
       "1  (mountfort, around, benjamin, woolfield)      1     -13.403545\n",
       "2  (around, benjamin, woolfield, mountfort)      1     -13.403545\n",
       "3   (benjamin, woolfield, mountfort, march)      1     -13.403545\n",
       "4      (woolfield, mountfort, march, march)      1     -13.403545"
      ]
     },
     "execution_count": 42,
     "metadata": {},
     "output_type": "execute_result"
    }
   ],
   "source": [
    "# Function to extract quadgrams followed by count and log frequency\n",
    "\n",
    "quadgrams_logfreq = []\n",
    "quadgrams_lst = []\n",
    "quadgrams_count = []\n",
    "\n",
    "quadgrams = ngrams(filtered_sentence,4)\n",
    "quadgrams_freq = Counter(quadgrams)\n",
    "for i,v in quadgrams_freq.items():\n",
    "    quadgrams_logfreq.append(np.log(v/len(trigrams_freq)))\n",
    "    quadgrams_lst.append(i)\n",
    "    quadgrams_count.append(v)\n",
    "\n",
    "quadgrams_dataframe =  pd.DataFrame(list(zip(quadgrams_lst, quadgrams_count, quadgrams_logfreq)),\n",
    "                     columns=['Quadgrams','Count', 'Log Frequency'])\n",
    "\n",
    "quadgrams_dataframe.head()"
   ]
  },
  {
   "cell_type": "code",
   "execution_count": 39,
   "metadata": {},
   "outputs": [
    {
     "data": {
      "text/html": [
       "<div>\n",
       "<style scoped>\n",
       "    .dataframe tbody tr th:only-of-type {\n",
       "        vertical-align: middle;\n",
       "    }\n",
       "\n",
       "    .dataframe tbody tr th {\n",
       "        vertical-align: top;\n",
       "    }\n",
       "\n",
       "    .dataframe thead th {\n",
       "        text-align: right;\n",
       "    }\n",
       "</style>\n",
       "<table border=\"1\" class=\"dataframe\">\n",
       "  <thead>\n",
       "    <tr style=\"text-align: right;\">\n",
       "      <th></th>\n",
       "      <th>Quadgrams</th>\n",
       "      <th>Count</th>\n",
       "      <th>Log Frequency</th>\n",
       "    </tr>\n",
       "  </thead>\n",
       "  <tbody>\n",
       "    <tr>\n",
       "      <th>0</th>\n",
       "      <td>(benjamin, mountfort, around, benjamin)</td>\n",
       "      <td>1</td>\n",
       "      <td>-13.403545</td>\n",
       "    </tr>\n",
       "    <tr>\n",
       "      <th>461086</th>\n",
       "      <td>(band, thunderstorm, activity, near)</td>\n",
       "      <td>1</td>\n",
       "      <td>-13.403545</td>\n",
       "    </tr>\n",
       "    <tr>\n",
       "      <th>461087</th>\n",
       "      <td>(thunderstorm, activity, near, equator)</td>\n",
       "      <td>1</td>\n",
       "      <td>-13.403545</td>\n",
       "    </tr>\n",
       "    <tr>\n",
       "      <th>461088</th>\n",
       "      <td>(activity, near, equator, referred)</td>\n",
       "      <td>1</td>\n",
       "      <td>-13.403545</td>\n",
       "    </tr>\n",
       "    <tr>\n",
       "      <th>461089</th>\n",
       "      <td>(near, equator, referred, intertropical)</td>\n",
       "      <td>1</td>\n",
       "      <td>-13.403545</td>\n",
       "    </tr>\n",
       "    <tr>\n",
       "      <th>461090</th>\n",
       "      <td>(equator, referred, intertropical, front)</td>\n",
       "      <td>1</td>\n",
       "      <td>-13.403545</td>\n",
       "    </tr>\n",
       "    <tr>\n",
       "      <th>461091</th>\n",
       "      <td>(referred, intertropical, front, itf)</td>\n",
       "      <td>1</td>\n",
       "      <td>-13.403545</td>\n",
       "    </tr>\n",
       "    <tr>\n",
       "      <th>461092</th>\n",
       "      <td>(intertropical, front, itf, intertropical)</td>\n",
       "      <td>1</td>\n",
       "      <td>-13.403545</td>\n",
       "    </tr>\n",
       "    <tr>\n",
       "      <th>461093</th>\n",
       "      <td>(front, itf, intertropical, convergence)</td>\n",
       "      <td>1</td>\n",
       "      <td>-13.403545</td>\n",
       "    </tr>\n",
       "    <tr>\n",
       "      <th>461094</th>\n",
       "      <td>(itf, intertropical, convergence, zone)</td>\n",
       "      <td>1</td>\n",
       "      <td>-13.403545</td>\n",
       "    </tr>\n",
       "    <tr>\n",
       "      <th>461095</th>\n",
       "      <td>(convergence, zone, itcz, monsoon)</td>\n",
       "      <td>1</td>\n",
       "      <td>-13.403545</td>\n",
       "    </tr>\n",
       "    <tr>\n",
       "      <th>461096</th>\n",
       "      <td>(zone, itcz, monsoon, trough)</td>\n",
       "      <td>1</td>\n",
       "      <td>-13.403545</td>\n",
       "    </tr>\n",
       "    <tr>\n",
       "      <th>461097</th>\n",
       "      <td>(itcz, monsoon, trough, another)</td>\n",
       "      <td>1</td>\n",
       "      <td>-13.403545</td>\n",
       "    </tr>\n",
       "    <tr>\n",
       "      <th>461098</th>\n",
       "      <td>(monsoon, trough, another, important)</td>\n",
       "      <td>1</td>\n",
       "      <td>-13.403545</td>\n",
       "    </tr>\n",
       "    <tr>\n",
       "      <th>461099</th>\n",
       "      <td>(trough, another, important, source)</td>\n",
       "      <td>1</td>\n",
       "      <td>-13.403545</td>\n",
       "    </tr>\n",
       "    <tr>\n",
       "      <th>461100</th>\n",
       "      <td>(another, important, source, atmospheric)</td>\n",
       "      <td>1</td>\n",
       "      <td>-13.403545</td>\n",
       "    </tr>\n",
       "    <tr>\n",
       "      <th>461101</th>\n",
       "      <td>(important, source, atmospheric, instability)</td>\n",
       "      <td>1</td>\n",
       "      <td>-13.403545</td>\n",
       "    </tr>\n",
       "    <tr>\n",
       "      <th>461102</th>\n",
       "      <td>(source, atmospheric, instability, found)</td>\n",
       "      <td>1</td>\n",
       "      <td>-13.403545</td>\n",
       "    </tr>\n",
       "    <tr>\n",
       "      <th>461085</th>\n",
       "      <td>(worldwide, band, thunderstorm, activity)</td>\n",
       "      <td>1</td>\n",
       "      <td>-13.403545</td>\n",
       "    </tr>\n",
       "    <tr>\n",
       "      <th>461103</th>\n",
       "      <td>(atmospheric, instability, found, tropical)</td>\n",
       "      <td>1</td>\n",
       "      <td>-13.403545</td>\n",
       "    </tr>\n",
       "  </tbody>\n",
       "</table>\n",
       "</div>"
      ],
      "text/plain": [
       "                                            Quadgrams  Count  Log Frequency\n",
       "0             (benjamin, mountfort, around, benjamin)      1     -13.403545\n",
       "461086           (band, thunderstorm, activity, near)      1     -13.403545\n",
       "461087        (thunderstorm, activity, near, equator)      1     -13.403545\n",
       "461088            (activity, near, equator, referred)      1     -13.403545\n",
       "461089       (near, equator, referred, intertropical)      1     -13.403545\n",
       "461090      (equator, referred, intertropical, front)      1     -13.403545\n",
       "461091          (referred, intertropical, front, itf)      1     -13.403545\n",
       "461092     (intertropical, front, itf, intertropical)      1     -13.403545\n",
       "461093       (front, itf, intertropical, convergence)      1     -13.403545\n",
       "461094        (itf, intertropical, convergence, zone)      1     -13.403545\n",
       "461095             (convergence, zone, itcz, monsoon)      1     -13.403545\n",
       "461096                  (zone, itcz, monsoon, trough)      1     -13.403545\n",
       "461097               (itcz, monsoon, trough, another)      1     -13.403545\n",
       "461098          (monsoon, trough, another, important)      1     -13.403545\n",
       "461099           (trough, another, important, source)      1     -13.403545\n",
       "461100      (another, important, source, atmospheric)      1     -13.403545\n",
       "461101  (important, source, atmospheric, instability)      1     -13.403545\n",
       "461102      (source, atmospheric, instability, found)      1     -13.403545\n",
       "461085      (worldwide, band, thunderstorm, activity)      1     -13.403545\n",
       "461103    (atmospheric, instability, found, tropical)      1     -13.403545"
      ]
     },
     "execution_count": 39,
     "metadata": {},
     "output_type": "execute_result"
    }
   ],
   "source": [
    "# Displaying top 20 quadgrams\n",
    "\n",
    "quadgrams_dataframe.sort_values(by=['Log Frequency']).head(20)"
   ]
  },
  {
   "cell_type": "code",
   "execution_count": null,
   "metadata": {},
   "outputs": [],
   "source": []
  }
 ],
 "metadata": {
  "kernelspec": {
   "display_name": "Python 3",
   "language": "python",
   "name": "python3"
  },
  "language_info": {
   "codemirror_mode": {
    "name": "ipython",
    "version": 3
   },
   "file_extension": ".py",
   "mimetype": "text/x-python",
   "name": "python",
   "nbconvert_exporter": "python",
   "pygments_lexer": "ipython3",
   "version": "3.6.5"
  }
 },
 "nbformat": 4,
 "nbformat_minor": 2
}
